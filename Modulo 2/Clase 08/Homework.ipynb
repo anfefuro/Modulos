{
 "cells": [
  {
   "cell_type": "markdown",
   "metadata": {},
   "source": [
    "#### Un fabricante de neumáticos informa que el promedio de km que se puede recorrer con ellos es de 50.000km la desviación estandar es de 4.000 km. Usted decide comprar 80 neumáticos y decide corroborar la afirmación del fabricante. Si su medición da una media de 49.600km."
   ]
  },
  {
   "cell_type": "markdown",
   "metadata": {},
   "source": [
    "¿Consedería correcto lo expresado por el fabricante para un nivel de significancia del 0.05?."
   ]
  },
  {
   "cell_type": "code",
   "execution_count": 2,
   "metadata": {},
   "outputs": [
    {
     "name": "stdout",
     "output_type": "stream",
     "text": [
      "-0.7071067811865475\n",
      "48891.256567099495\n",
      "51108.743432900505\n"
     ]
    }
   ],
   "source": [
    "import math\n",
    "\n",
    "n= 50\n",
    "desvio_estandar= 4000\n",
    "media= 49600\n",
    "media_poblacional= 50000\n",
    "significancia= 0.05\n",
    "\n",
    "#Muestra mayor a 30, utilizamos distribución normal.\n",
    "# H0 = 50.000 y H1 != 50.000\n",
    "#Buscamos valores de -Zc y Zc en la tabla para 0.05. 0.05/2 = 0.025. \n",
    "# -Zc = -1.96 y Zc = 1.96 \n",
    "\n",
    "a_z = (media - media_poblacional) / (desvio_estandar / math.sqrt(n))\n",
    "\n",
    "print(a_z)\n",
    "\n",
    "media2 = (-1.96 * (desvio_estandar / math.sqrt(n))) + media_poblacional\n",
    "\n",
    "print(media2)\n",
    "\n",
    "media1 = (1.96 * (desvio_estandar / math.sqrt(n))) + media_poblacional\n",
    "\n",
    "print(media1)\n"
   ]
  },
  {
   "cell_type": "markdown",
   "metadata": {},
   "source": [
    "¿Consedería correcto lo expresado por el fabricante para un nivel del 0.01?\n"
   ]
  },
  {
   "cell_type": "code",
   "execution_count": 41,
   "metadata": {},
   "outputs": [
    {
     "name": "stdout",
     "output_type": "stream",
     "text": [
      "-0.7071067811865475\n",
      "48540.53160363097\n",
      "51459.46839636903\n"
     ]
    }
   ],
   "source": [
    "n= 50\n",
    "desvio_estandar= 4000\n",
    "media= 49600\n",
    "media_poblacional= 50000\n",
    "significancia= 0.01\n",
    "\n",
    "#Muestra mayor a 30, utilizamos distribución normal.\n",
    "# H0 = 50.000 y H1 != 50.000\n",
    "#Buscamos valores de -Zc y Zc en la tabla para 0.01. -Zc / Zc = 0.01/2 = 0.005. \n",
    "# -Zc = -2.58 y Zc = 2.58 \n",
    "\n",
    "b_z = (media - media_poblacional) / (desvio_estandar / math.sqrt(n))\n",
    "\n",
    "print(b_z)\n",
    "\n",
    "\n",
    "media1 = (-2.58 * (desvio_estandar / math.sqrt(n))) + media_poblacional\n",
    "\n",
    "print(media1)\n",
    "\n",
    "media2 = (2.58 * (desvio_estandar / math.sqrt(n))) + media_poblacional\n",
    "\n",
    "print(media2)"
   ]
  },
  {
   "cell_type": "markdown",
   "metadata": {},
   "source": [
    "#### Los alumnos de Henry, obtienen en promedio una puntuación de 78 en un HC. Henry determina que a través de métodos innovadores puede aumentar esa media. Considerando la hipótesis de investigación de que el nuevo sistema proporciona un rendimiento medio mayor; es decir, μ > 78. El grupo de investigación tomo una muestra de 45 alumnos y obtiene notas promedio de 80 puntos."
   ]
  },
  {
   "cell_type": "markdown",
   "metadata": {},
   "source": [
    "¿Determine si el nuevo sistema realmente mejoro el rendimiento para un nivel de significancia del 0.05?."
   ]
  },
  {
   "cell_type": "code",
   "execution_count": 3,
   "metadata": {},
   "outputs": [
    {
     "name": "stdout",
     "output_type": "stream",
     "text": [
      "0.8944271909999159\n",
      "81.68951216287465\n"
     ]
    }
   ],
   "source": [
    "n = 45\n",
    "desvio_estandar = 15\n",
    "media = 80\n",
    "media_poblacional = 78\n",
    "significancia = 0.05\n",
    "\n",
    "#Muestra mayor a 30, utilizamos distribución normal.\n",
    "#H0: μ<= 78 y H1: μ> 78.\n",
    "#Buscamos valores de Zc en la tabla para 0.05. \n",
    "# Zc = 1.65 \n",
    "\n",
    "c_z = (media - media_poblacional) / (desvio_estandar / math.sqrt(n))\n",
    "\n",
    "print(c_z)\n",
    "\n",
    "#Se considera que el nuevo método no aumenta el rendimiento.\n",
    "\n",
    "media1 = (1.65 * (desvio_estandar / math.sqrt(n))) + media_poblacional\n",
    "\n",
    "print(media1)\n"
   ]
  },
  {
   "cell_type": "markdown",
   "metadata": {},
   "source": [
    "¿Determine si el nuevo sistema realmente mejoro el rendimiento para un nivel de significancia del 0.01?"
   ]
  },
  {
   "cell_type": "code",
   "execution_count": 35,
   "metadata": {},
   "outputs": [
    {
     "name": "stdout",
     "output_type": "stream",
     "text": [
      "0.8944271909999159\n",
      "83.21003838757451\n"
     ]
    }
   ],
   "source": [
    "n = 45\n",
    "desvio_estandar = 15\n",
    "media = 80\n",
    "media_poblacional = 78\n",
    "significancia = 0.01\n",
    "\n",
    "#Muestra mayor a 30, utilizamos distribución normal.\n",
    "#H0: μ<= 78 y H1: μ> 78.\n",
    "#Buscamos valores de Zc en la tabla para 0.01. \n",
    "# Zc = 2.33 \n",
    "\n",
    "d_z = (media - media_poblacional) / (desvio_estandar / math.sqrt(n))\n",
    "\n",
    "print(d_z)\n",
    "\n",
    "#Se considera que el nuevo no método aumenta el rendimiento.\n",
    "\n",
    "#Para obtener el valor desde el cual se encuetra en zona de rechazo, debemos despejar la fórmula.\n",
    "\n",
    "media1 = (2.33 * (desvio_estandar / math.sqrt(n))) + media_poblacional\n",
    "\n",
    "print(media1)"
   ]
  }
 ],
 "metadata": {
  "interpreter": {
   "hash": "b51ad55a38bed2146e8f97b38a2e8608b2d26e929d2f2cc163bb776a971c4777"
  },
  "kernelspec": {
   "display_name": "Python 3.10.0 64-bit",
   "language": "python",
   "name": "python3"
  },
  "language_info": {
   "codemirror_mode": {
    "name": "ipython",
    "version": 3
   },
   "file_extension": ".py",
   "mimetype": "text/x-python",
   "name": "python",
   "nbconvert_exporter": "python",
   "pygments_lexer": "ipython3",
   "version": "3.10.0"
  },
  "orig_nbformat": 4
 },
 "nbformat": 4,
 "nbformat_minor": 2
}
